{
  "nbformat": 4,
  "nbformat_minor": 0,
  "metadata": {
    "colab": {
      "name": "bin_classifier.ipynb",
      "provenance": [],
      "collapsed_sections": [
        "u-rU2MU45l6y"
      ],
      "machine_shape": "hm"
    },
    "kernelspec": {
      "name": "python3",
      "display_name": "Python 3"
    },
    "accelerator": "GPU"
  },
  "cells": [
    {
      "cell_type": "code",
      "metadata": {
        "id": "rF_Db7teUsxu",
        "colab_type": "code",
        "outputId": "51adde22-20ab-433d-818f-25ca4684f9db",
        "colab": {
          "base_uri": "https://localhost:8080/",
          "height": 139
        }
      },
      "source": [
        "import numpy as np\n",
        "import pandas as pd\n",
        "import time, re\n",
        "\n",
        "from keras.utils import to_categorical\n",
        "from keras.models import Sequential, load_model\n",
        "from keras.layers import Dense, Flatten, LSTM, Bidirectional, Conv1D\n",
        "from keras.layers import Dropout, Activation, MaxPooling1D, SpatialDropout1D\n",
        "from keras.layers.embeddings import Embedding\n",
        "\n",
        "from keras.callbacks import EarlyStopping\n",
        "from keras import regularizers, optimizers\n",
        "from keras.preprocessing.text import Tokenizer\n",
        "from keras.preprocessing.sequence import pad_sequences\n",
        "\n",
        "from sklearn.pipeline import Pipeline\n",
        "from sklearn.naive_bayes import BernoulliNB\n",
        "from sklearn.preprocessing import LabelEncoder\n",
        "from sklearn.utils.class_weight import compute_class_weight\n",
        "from sklearn.feature_extraction.text import TfidfVectorizer\n",
        "from sklearn.model_selection import cross_val_score, train_test_split, StratifiedKFold\n",
        "from sklearn.metrics import classification_report, accuracy_score, confusion_matrix\n",
        "from sklearn.metrics import precision_score, recall_score, f1_score\n",
        "\n",
        "import matplotlib.pyplot as plt\n",
        "import seaborn as sns\n",
        "\n",
        "from google.colab import drive\n",
        "drive.mount('/content/gdrive')"
      ],
      "execution_count": 5,
      "outputs": [
        {
          "output_type": "stream",
          "text": [
            "Using TensorFlow backend.\n"
          ],
          "name": "stderr"
        },
        {
          "output_type": "stream",
          "text": [
            "Go to this URL in a browser: https://accounts.google.com/o/oauth2/auth?client_id=947318989803-6bn6qk8qdgf4n4g3pfee6491hc0brc4i.apps.googleusercontent.com&redirect_uri=urn%3aietf%3awg%3aoauth%3a2.0%3aoob&response_type=code&scope=email%20https%3a%2f%2fwww.googleapis.com%2fauth%2fdocs.test%20https%3a%2f%2fwww.googleapis.com%2fauth%2fdrive%20https%3a%2f%2fwww.googleapis.com%2fauth%2fdrive.photos.readonly%20https%3a%2f%2fwww.googleapis.com%2fauth%2fpeopleapi.readonly\n",
            "\n",
            "Enter your authorization code:\n",
            "··········\n",
            "Mounted at /content/gdrive\n"
          ],
          "name": "stdout"
        }
      ]
    },
    {
      "cell_type": "markdown",
      "metadata": {
        "id": "F7IrWlpTT4bZ",
        "colab_type": "text"
      },
      "source": [
        " # **Preprocessing**"
      ]
    },
    {
      "cell_type": "markdown",
      "metadata": {
        "id": "c5ZwZt56plje",
        "colab_type": "text"
      },
      "source": [
        "**Source Set**"
      ]
    },
    {
      "cell_type": "code",
      "metadata": {
        "id": "gHUl4lWtqF4o",
        "colab_type": "code",
        "outputId": "f91be4fc-b182-49d3-cee3-ceaba2eecf1b",
        "colab": {
          "base_uri": "https://localhost:8080/",
          "height": 51
        }
      },
      "source": [
        "cols = ['sentiment','text']\n",
        "df = pd.read_csv('/content/gdrive/My Drive/Colab Notebooks/Data/training_big.csv',encoding='latin-1',header=None, \\\n",
        "                 names=cols, usecols=[0,5])\n",
        "\n",
        "label_encoder = LabelEncoder()\n",
        "df['sentiment'] = label_encoder.fit_transform(df['sentiment'])\n",
        "\n",
        "X = df['text'].fillna('').tolist()\n",
        "X = [str(i) for i in X]\n",
        "X = [re.sub('@[^\\s]+','',i) for i in X]\n",
        "y = df['sentiment'].fillna('').tolist()\n",
        "print('X sample:',X[0])\n",
        "print('y sample:',y[0])"
      ],
      "execution_count": 6,
      "outputs": [
        {
          "output_type": "stream",
          "text": [
            "X sample:  http://twitpic.com/2y1zl - Awww, that's a bummer.  You shoulda got David Carr of Third Day to do it. ;D\n",
            "y sample: 0\n"
          ],
          "name": "stdout"
        }
      ]
    },
    {
      "cell_type": "code",
      "metadata": {
        "id": "3aXqow41_A5X",
        "colab_type": "code",
        "colab": {
          "base_uri": "https://localhost:8080/",
          "height": 85
        },
        "outputId": "42a7ebc3-7bd2-4ab3-8285-3a4e23af15cb"
      },
      "source": [
        "print('Loading data...')\n",
        "# Balance classes \n",
        "class_weights = compute_class_weight('balanced', np.unique(y), y)\n",
        "class_weights = dict(enumerate(class_weights))\n",
        "\n",
        "# Split data\n",
        "X_train, X_test, y_train, y_test = train_test_split(X, y, test_size=0.33, random_state=42)\n",
        "\n",
        "# Clean text\n",
        "tokenizer = Tokenizer()\n",
        "tokenizer.fit_on_texts(X_train)\n",
        "\n",
        "# Convert text to integer sequences\n",
        "X_train = tokenizer.texts_to_sequences(X_train)\n",
        "X_test = tokenizer.texts_to_sequences(X_test)\n",
        "\n",
        "y_train = to_categorical(y_train, 2, dtype='int64')\n",
        "y_test = to_categorical(y_test, 2, dtype='int64')\n",
        "\n",
        "vocab_size = len(tokenizer.word_index) + 1  \n",
        "print('Found %s unique tokens.' % vocab_size)\n",
        "maxlen = 100\n",
        "\n",
        "# Sequences that are shorter than the max length are padded with value\n",
        "X_train = pad_sequences(X_train, padding='post', maxlen=maxlen)\n",
        "X_test = pad_sequences(X_test, padding='post', maxlen=maxlen)\n",
        "\n",
        "print('X_train shape:', X_train.shape)\n",
        "print('X_test shape:', X_test.shape)"
      ],
      "execution_count": 20,
      "outputs": [
        {
          "output_type": "stream",
          "text": [
            "Loading data...\n",
            "Found 289051 unique tokens.\n",
            "X_train shape: (1072000, 100)\n",
            "X_test shape: (528000, 100)\n"
          ],
          "name": "stdout"
        }
      ]
    },
    {
      "cell_type": "markdown",
      "metadata": {
        "id": "tMCfL7w67kmx",
        "colab_type": "text"
      },
      "source": [
        "**Target Set**"
      ]
    },
    {
      "cell_type": "code",
      "metadata": {
        "id": "k6pfo3sN7gzO",
        "colab_type": "code",
        "colab": {}
      },
      "source": [
        "def decontracted(phrase):\n",
        "    phrase = re.sub(r\"won\\'t\", \"will not\", phrase)\n",
        "    phrase = re.sub(r\"can\\'t\", \"can not\", phrase)\n",
        "    phrase = re.sub(r\"n\\'t\", \" not\", phrase)\n",
        "    phrase = re.sub(r\"\\'re\", \" are\", phrase)\n",
        "    phrase = re.sub(r\"\\'s\", \" is\", phrase)\n",
        "    phrase = re.sub(r\"\\'d\", \" would\", phrase)\n",
        "    phrase = re.sub(r\"\\'ll\", \" will\", phrase)\n",
        "    phrase = re.sub(r\"\\'t\", \" not\", phrase)\n",
        "    phrase = re.sub(r\"\\'ve\", \" have\", phrase)\n",
        "    phrase = re.sub(r\"\\'m\", \" am\", phrase)\n",
        "    phrase = re.sub(r\"it\\Õs\", \"it is\", phrase)\n",
        "    phrase = re.sub(r\"don\\Õt\", \"do not\", phrase)\n",
        "    phrase = re.sub(r\"isn\\Õt\", \"is not\", phrase)\n",
        "    phrase = re.sub(r\"I\\Õm\", \"I am\", phrase)\n",
        "    phrase = re.sub(r\"can\\Õt\", \"can not\", phrase)\n",
        "    phrase = re.sub(r\"\\Õve\", \"have\", phrase)\n",
        "    return phrase\n",
        "\n",
        "cols_target = ['target','text','label']\n",
        "target_df = pd.read_csv('/content/gdrive/My Drive/Colab Notebooks/Data/bin_manifesto.csv', encoding='latin-1', header=None, \\\n",
        "                     names=cols_target, usecols=[0,1,2])\n",
        "target_df = target_df[['target','text','label']]\n",
        "X_target = target_df['text'].fillna('').tolist()\n",
        "X_target = [decontracted(str(i)) for i in X_target]\n",
        "targ_targ = target_df['target'].fillna('').tolist()\n",
        "y_target = target_df['label'].fillna('').tolist()"
      ],
      "execution_count": 0,
      "outputs": []
    },
    {
      "cell_type": "code",
      "metadata": {
        "id": "yIzsk1fE0Clb",
        "colab_type": "code",
        "colab": {
          "base_uri": "https://localhost:8080/",
          "height": 51
        },
        "outputId": "3e78bf1f-4f46-4725-8dbf-ed6c597d3c43"
      },
      "source": [
        "tokenizer = Tokenizer()\n",
        "tokenizer.fit_on_texts(X_target)\n",
        "\n",
        "X_target = tokenizer.texts_to_sequences(X_target)\n",
        "X_target = pad_sequences(X_target, padding='post', maxlen=maxlen)\n",
        "\n",
        "print('In-sample shape:', X_train.shape)\n",
        "print('Out-of-sample shape:', X_target.shape)"
      ],
      "execution_count": 10,
      "outputs": [
        {
          "output_type": "stream",
          "text": [
            "In-sample shape: (1072000, 100)\n",
            "Out-of-sample shape: (850, 100)\n"
          ],
          "name": "stdout"
        }
      ]
    },
    {
      "cell_type": "markdown",
      "metadata": {
        "id": "LsX4IholdjZi",
        "colab_type": "text"
      },
      "source": [
        "# **Embeddings**"
      ]
    },
    {
      "cell_type": "markdown",
      "metadata": {
        "id": "KMxDR0OCdXJO",
        "colab_type": "text"
      },
      "source": [
        "**GloVe**"
      ]
    },
    {
      "cell_type": "code",
      "metadata": {
        "id": "d9IQdSDudoNf",
        "colab_type": "code",
        "colab": {}
      },
      "source": [
        "glove_path = '/content/gdrive/My Drive/Colab Notebooks/Data/glove.twitter.27B/glove.twitter.27B.200d.txt'\n",
        "\n",
        "embeddings_index = dict()\n",
        "with open(glove_path,\n",
        "          encoding=\"utf8\") as glove:\n",
        "  for line in glove:\n",
        "    values = line.split()\n",
        "    word = values[0]\n",
        "    coefs = np.asarray(values[1:], dtype='float32')\n",
        "    embeddings_index[word] = coefs\n",
        "  glove.close()"
      ],
      "execution_count": 0,
      "outputs": []
    },
    {
      "cell_type": "code",
      "metadata": {
        "id": "79ujgBhzeg7Z",
        "colab_type": "code",
        "colab": {}
      },
      "source": [
        "embedding_matrix = np.zeros((vocab_size, 200))\n",
        "for word, index in tokenizer.word_index.items():\n",
        "    if index > vocab_size - 1:\n",
        "        break\n",
        "    else:\n",
        "        embedding_vector = embeddings_index.get(word)\n",
        "        if embedding_vector is not None:\n",
        "            embedding_matrix[index] = embedding_vector"
      ],
      "execution_count": 0,
      "outputs": []
    },
    {
      "cell_type": "markdown",
      "metadata": {
        "id": "MV6bigbQXjjW",
        "colab_type": "text"
      },
      "source": [
        "# **TextCNN**"
      ]
    },
    {
      "cell_type": "markdown",
      "metadata": {
        "id": "SjdH9Fvn_iWU",
        "colab_type": "text"
      },
      "source": [
        "**Pipeline**"
      ]
    },
    {
      "cell_type": "code",
      "metadata": {
        "colab_type": "code",
        "id": "P85bZresqWoG",
        "colab": {}
      },
      "source": [
        "%%time\n",
        "\n",
        "#Parameters\n",
        "maxlen = maxlen\n",
        "num_filters = 32\n",
        "weight_decay = 1e-4\n",
        "embedding_dim = 200\n",
        "batch_size = 256\n",
        "epochs = 20\n",
        "\n",
        "print('Build CNN model...')\n",
        "model = Sequential()\n",
        "# First layer\n",
        "model.add(Embedding(vocab_size, embedding_dim, \n",
        "                    weights=[embedding_matrix],\n",
        "                    input_length=maxlen,\n",
        "                    trainable=False))\n",
        "model.add(Conv1D(num_filters, 7, activation='relu', padding='same'))\n",
        "model.add(MaxPooling1D())\n",
        "# Second layer\n",
        "model.add(Conv1D(num_filters, 7, activation='relu', padding='same'))\n",
        "model.add(MaxPooling1D())\n",
        "# Third layer\n",
        "model.add(Conv1D(num_filters, 7, activation='relu', padding='same'))\n",
        "model.add(MaxPooling1D())\n",
        "model.add(Flatten())\n",
        "# CLASSIFICATION\n",
        "# Fully connected layer\n",
        "model.add(Dense(32, activation='relu', kernel_regularizer=regularizers.l2(weight_decay)))\n",
        "model.add(Dropout(0.5))\n",
        "# Output layer w/ sigmoid\n",
        "model.add(Dense(2, activation='sigmoid'))\n",
        "\n",
        "# Compile the model\n",
        "adam = optimizers.Adam(lr=0.001, beta_1=0.9, beta_2=0.999, epsilon=1e-08, decay=0.0)\n",
        "model.compile(optimizer='adam',\n",
        "              loss='binary_crossentropy',\n",
        "              metrics=['accuracy'])\n",
        "\n",
        "cnn_history = model.fit(X_train, y_train,\n",
        "              batch_size=batch_size,\n",
        "              epochs=epochs,\n",
        "              class_weight=class_weights)\n",
        "\n",
        "model.save('my_cnn.h5')"
      ],
      "execution_count": 0,
      "outputs": []
    },
    {
      "cell_type": "markdown",
      "metadata": {
        "id": "Kco7Hhw9aIJf",
        "colab_type": "text"
      },
      "source": [
        "**Retraining**"
      ]
    },
    {
      "cell_type": "code",
      "metadata": {
        "id": "BAZIbn7tT-Xh",
        "colab_type": "code",
        "colab": {}
      },
      "source": [
        "cnn_model_A = load_model('my_cnn.h5')\n",
        "\n",
        "X_train_B, X_test_B, y_train_B, y_test_B = train_test_split(X_target, y_target, test_size=0.33, random_state=33)\n",
        "\n",
        "y_train_B = to_categorical(y_train_B, 2, dtype='int64')\n",
        "y_test_B = to_categorical(y_test_B, 2, dtype='int64')\n",
        "\n",
        "cnn_model_B_on_A = Sequential(cnn_model_A.layers[:-1])\n",
        "cnn_model_B_on_A.add(Dense(2, activation=\"sigmoid\"))\n",
        "\n",
        "for layer in cnn_model_B_on_A.layers[:-1]:\n",
        "    trainable = True\n",
        "\n",
        "adam = optimizers.Adam(lr=0.001, beta_1=0.9, beta_2=0.999, epsilon=1e-08, decay=0.0)\n",
        "cnn_model_B_on_A.compile(loss=\"binary_crossentropy\", optimizer=adam,\n",
        "                     metrics=[\"accuracy\"])\n",
        "\n",
        "early_stopping = EarlyStopping(monitor='val_loss', min_delta=0.01, patience=3, verbose=0)\n",
        "callbacks = [early_stopping]\n",
        "\n",
        "cnn_B_history = cnn_model_B_on_A.fit(X_train_B, y_train_B, epochs=10,\n",
        "                           validation_data=(X_test_B, y_test_B),\n",
        "                           callbacks=callbacks)\n",
        "\n",
        "loss, acc = model.evaluate(X_train_B, y_train_B, verbose=True)\n",
        "print(\"Training Accuracy: {:.4f}\".format(acc))\n",
        "loss, acc = model.evaluate(X_test_B, y_test_B, verbose=False)\n",
        "print(\"Testing Accuracy:  {:.4f}\".format(acc))\n",
        "\n",
        "cnn_model_B_on_A.save('my_cnn_B.h5')"
      ],
      "execution_count": 0,
      "outputs": []
    },
    {
      "cell_type": "markdown",
      "metadata": {
        "id": "FeaWkZkY_nAq",
        "colab_type": "text"
      },
      "source": [
        "**Evaluation**"
      ]
    },
    {
      "cell_type": "code",
      "metadata": {
        "id": "VjJGxnD3SRIn",
        "colab_type": "code",
        "colab": {}
      },
      "source": [
        "def argmax_keepdims(x, axis):\n",
        "    output_shape = list(x.shape)\n",
        "    output_shape[axis] = 1\n",
        "    return np.argmax(x, axis=axis).reshape(output_shape)\n",
        "\n",
        "y_test_fit = argmax_keepdims(y_test_B , axis=1)\n",
        "\n",
        "cnn_model_B = load_model('my_cnn_B.h5')\n",
        "y_pred = cnn_model_B.predict_classes(X_test_B)\n",
        "\n",
        "target_names = ['negative', 'non-negative']\n",
        "print('----------------------EVALUATION----------------------\\n')\n",
        "print(classification_report(y_test_fit, y_pred, target_names=target_names))"
      ],
      "execution_count": 0,
      "outputs": []
    },
    {
      "cell_type": "markdown",
      "metadata": {
        "id": "i8VmXIxyQHed",
        "colab_type": "text"
      },
      "source": [
        "# **BiLSTM**"
      ]
    },
    {
      "cell_type": "markdown",
      "metadata": {
        "id": "AI0mYsOpts4_",
        "colab_type": "text"
      },
      "source": [
        "**Pipeline**"
      ]
    },
    {
      "cell_type": "code",
      "metadata": {
        "id": "D56Nr9ylP-qS",
        "colab_type": "code",
        "colab": {}
      },
      "source": [
        "%%time\n",
        "\n",
        "#Parameters\n",
        "maxlen = maxlen\n",
        "lstm_output_size = 70\n",
        "weight_decay = 1e-4\n",
        "embedding_dim = 200\n",
        "batch_size = 256\n",
        "kernel_size = 4\n",
        "epochs = 20\n",
        "\n",
        "print('Build LSTM model...')\n",
        "model = Sequential()\n",
        "model.add(Embedding(vocab_size, embedding_dim, \n",
        "                    weights=[embedding_matrix],\n",
        "                    input_length=maxlen,\n",
        "                    trainable=False))\n",
        "model.add(SpatialDropout1D(0.2))\n",
        "model.add(Bidirectional(LSTM(lstm_output_size, dropout=0.2, recurrent_dropout=0.2)))\n",
        "model.add(Dense(2, activation='sigmoid'))\n",
        "\n",
        "adam = optimizers.Adam(lr=0.001, beta_1=0.9, beta_2=0.999, epsilon=1e-08, decay=0.0)\n",
        "model.compile(loss='binary_crossentropy',\n",
        "              optimizer='adam',\n",
        "              metrics=['accuracy'])\n",
        "\n",
        "lstm_history = model.fit(X_train, y_train,\n",
        "              batch_size=batch_size,\n",
        "              epochs=epochs,\n",
        "              class_weight=class_weights)\n",
        "\n",
        "model.save('my_lstm.h5')"
      ],
      "execution_count": 0,
      "outputs": []
    },
    {
      "cell_type": "markdown",
      "metadata": {
        "id": "IAZr7KdT899j",
        "colab_type": "text"
      },
      "source": [
        "**Retraining**"
      ]
    },
    {
      "cell_type": "code",
      "metadata": {
        "id": "gIwWVCMt5eoh",
        "colab_type": "code",
        "colab": {}
      },
      "source": [
        "lstm_model_A = load_model('my_lstm.h5')\n",
        "\n",
        "X_train_B, X_test_B, y_train_B, y_test_B = train_test_split(X_oos, y_oos, test_size=0.33, random_state=33)\n",
        "\n",
        "y_train_B = to_categorical(y_train_B, 2, dtype='int64')\n",
        "y_test_B = to_categorical(y_test_B, 2, dtype='int64')\n",
        "\n",
        "lstm_model_B_on_A = Sequential(lstm_model_A.layers[:-1])\n",
        "lstm_model_B_on_A.add(Dense(2, activation=\"sigmoid\"))\n",
        "\n",
        "for layer in lstm_model_B_on_A.layers[:-1]:\n",
        "    trainable = True\n",
        "\n",
        "adam = optimizers.Adam(lr=0.001, beta_1=0.9, beta_2=0.999, epsilon=1e-08, decay=0.0)\n",
        "lstm_model_B_on_A.compile(loss=\"binary_crossentropy\", optimizer=adam,\n",
        "                     metrics=[\"accuracy\"])\n",
        "\n",
        "early_stopping = EarlyStopping(monitor='val_loss', min_delta=0.01, patience=3, verbose=0)\n",
        "callbacks = [early_stopping]\n",
        "\n",
        "lstm_B_history = lstm_model_B_on_A.fit(X_train_B, y_train_B, epochs=10,\n",
        "                           validation_data=(X_test_B, y_test_B),\n",
        "                           callbacks=callbacks)\n",
        "\n",
        "loss, acc = model.evaluate(X_train_B, y_train_B, verbose=True)\n",
        "print(\"Training Accuracy: {:.4f}\".format(acc))\n",
        "loss, acc = model.evaluate(X_test_B, y_test_B, verbose=False)\n",
        "print(\"Testing Accuracy:  {:.4f}\".format(acc))\n",
        "\n",
        "lstm_model_B_on_A.save('my_lstm_B.h5')"
      ],
      "execution_count": 0,
      "outputs": []
    },
    {
      "cell_type": "markdown",
      "metadata": {
        "id": "dM5juzC6OwIj",
        "colab_type": "text"
      },
      "source": [
        "**Evaluation**"
      ]
    },
    {
      "cell_type": "code",
      "metadata": {
        "id": "7r3w-njrOu7D",
        "colab_type": "code",
        "colab": {}
      },
      "source": [
        "def argmax_keepdims(x, axis):\n",
        "    output_shape = list(x.shape)\n",
        "    output_shape[axis] = 1\n",
        "    return np.argmax(x, axis=axis).reshape(output_shape)\n",
        "\n",
        "y_test_fit = argmax_keepdims(y_test_B , axis=1)\n",
        "\n",
        "lstm_model_B = load_model('my_lstm_B.h5')\n",
        "y_pred = lstm_model_B.predict_classes(X_test_B)\n",
        "\n",
        "target_names = ['negative', 'non-negative']\n",
        "print('----------------------EVALUATION----------------------\\n')\n",
        "print(classification_report(y_test_fit, y_pred, target_names=target_names))"
      ],
      "execution_count": 0,
      "outputs": []
    },
    {
      "cell_type": "markdown",
      "metadata": {
        "id": "4-g9Fscb-bZB",
        "colab_type": "text"
      },
      "source": [
        "# **BERT**"
      ]
    },
    {
      "cell_type": "code",
      "metadata": {
        "id": "d9mN3YlRNVfw",
        "colab_type": "code",
        "colab": {}
      },
      "source": [
        "!pip install ktrain"
      ],
      "execution_count": 0,
      "outputs": []
    },
    {
      "cell_type": "code",
      "metadata": {
        "id": "7yOLF0rvOM-w",
        "colab_type": "code",
        "colab": {}
      },
      "source": [
        "import ktrain\n",
        "from ktrain import text\n",
        "\n",
        "from tensorflow.python.keras.layers import Layer, InputSpec"
      ],
      "execution_count": 0,
      "outputs": []
    },
    {
      "cell_type": "code",
      "metadata": {
        "id": "3GL8s1Zz-8tA",
        "colab_type": "code",
        "colab": {}
      },
      "source": [
        "(X_train, y_train), (X_test, y_test), preproc = text.texts_from_array(X, y, \n",
        "                                                                      max_features=vocab_size,\n",
        "                                                                      maxlen=maxlen, \n",
        "                                                                      preprocess_mode='bert')"
      ],
      "execution_count": 0,
      "outputs": []
    },
    {
      "cell_type": "code",
      "metadata": {
        "id": "yv7RbWPZANiL",
        "colab_type": "code",
        "colab": {}
      },
      "source": [
        "model = text.text_classifier('bert', (X_train, y_train), preproc=preproc)\n",
        "learner = ktrain.get_learner(model,train_data=(X_train_B, y_train_B), val_data=(X_test_B, y_test_B), batch_size=12)\n",
        "\n",
        "# find a good learning rate\n",
        "learner.lr_find()\n",
        "learner.lr_plot()\n",
        "\n",
        "# train using triangular learning rate policy\n",
        "learner.autofit(0.0007, 1)"
      ],
      "execution_count": 0,
      "outputs": []
    },
    {
      "cell_type": "markdown",
      "metadata": {
        "id": "NBh27faPRCBa",
        "colab_type": "text"
      },
      "source": [
        "**Predictions**"
      ]
    },
    {
      "cell_type": "code",
      "metadata": {
        "id": "rHHq1IsKCzrt",
        "colab_type": "code",
        "colab": {}
      },
      "source": [
        "predictor = ktrain.get_predictor(learner.model, preproc)\n",
        "bert_pred_class = predictor.predict(X_oos)\n",
        "bert_pred_prob = predictor.predict_proba(X_oos)\n",
        "\n",
        "tokenizer = Tokenizer()\n",
        "tokenizer.fit_on_texts(X_oos)\n",
        "X_oos = tokenizer.texts_to_sequences(X_oos)\n",
        "\n",
        "# Show the inputs and predicted outputs\n",
        "for i in range(5):\n",
        "  print(\"X=%s, Predicted=%s\" % (tokenizer.sequences_to_texts(X_oos)[i], bert_pred_class[i]))"
      ],
      "execution_count": 0,
      "outputs": []
    },
    {
      "cell_type": "markdown",
      "metadata": {
        "id": "6WV1e_AdRkVk",
        "colab_type": "text"
      },
      "source": [
        "**Evaluation**"
      ]
    },
    {
      "cell_type": "code",
      "metadata": {
        "colab_type": "code",
        "id": "kLZ_tqUURaRF",
        "colab": {}
      },
      "source": [
        "def argmax_keepdims(x, axis):\n",
        "    output_shape = list(x.shape)\n",
        "    output_shape[axis] = 1\n",
        "    return np.argmax(x, axis=axis).reshape(output_shape)\n",
        "\n",
        "bert_pred_fit = argmax_keepdims(bert_pred_prob, axis=1)\n",
        "\n",
        "target_names = ['negative', 'non-negative']\n",
        "print('----------------------EVALUATION----------------------\\n')\n",
        "print(classification_report(y_test_B, bert_pred_fit, target_names=target_names))"
      ],
      "execution_count": 0,
      "outputs": []
    },
    {
      "cell_type": "markdown",
      "metadata": {
        "id": "u-rU2MU45l6y",
        "colab_type": "text"
      },
      "source": [
        "# **Manifesto Topic Modeling**"
      ]
    },
    {
      "cell_type": "code",
      "metadata": {
        "id": "xxcL2poPIC4K",
        "colab_type": "code",
        "colab": {}
      },
      "source": [
        "!pip install mglearn"
      ],
      "execution_count": 0,
      "outputs": []
    },
    {
      "cell_type": "code",
      "metadata": {
        "id": "k7zXDU8U5sHJ",
        "colab_type": "code",
        "outputId": "24d99377-78be-42fe-d3d9-49e0845e20a7",
        "colab": {
          "base_uri": "https://localhost:8080/",
          "height": 680
        }
      },
      "source": [
        "from sklearn.decomposition import LatentDirichletAllocation\n",
        "from sklearn.feature_extraction.text import CountVectorizer\n",
        "import mglearn\n",
        "\n",
        "vect = CountVectorizer(max_features=10000, max_df=.15)\n",
        "X_target = vect.fit_transform(X_target)\n",
        "\n",
        "lda = LatentDirichletAllocation(n_components=10, learning_method='batch',\n",
        "                                max_iter=25, random_state=8)\n",
        "document_topics = lda.fit_transform(X_target)\n",
        "\n",
        "print(lda.components_.shape)\n",
        "\n",
        "# Sort the ascending features for each topic (row in component_)\n",
        "# Invert row to make sorting descending\n",
        "sorting = np.argsort(lda.components_, axis=1)[:,::-1]\n",
        "\n",
        "# Get the feature names from the vectorizer\n",
        "feature_names = np.array(vect.get_feature_names())\n",
        "\n",
        "# Print out topics\n",
        "mglearn.tools.print_topics(topics=range(10), feature_names=feature_names,\n",
        "                           sorting=sorting, topics_per_chunk=5, n_words=15)"
      ],
      "execution_count": 0,
      "outputs": [
        {
          "output_type": "stream",
          "text": [
            "(10, 9606)\n",
            "topic 0       topic 1       topic 2       topic 3       topic 4       \n",
            "--------      --------      --------      --------      --------      \n",
            "fucking       love          he            fucking       want          \n",
            "now           hate          man           then          how           \n",
            "know          european      been          its           some          \n",
            "too           power         those         change        could         \n",
            "where         men           think         think         were          \n",
            "need          us            his           us            any           \n",
            "think         replacement   white         must          must          \n",
            "own           new           how           thatõs        never         \n",
            "see           human         never         how           own           \n",
            "love          political     him           need          fucking       \n",
            "some          these         now           should        fuck          \n",
            "toxic         make          human         make          live          \n",
            "doing         women         any           any           us            \n",
            "these         use           rights        everyone      every         \n",
            "any           been          take          most          good          \n",
            "\n",
            "\n",
            "topic 5       topic 6       topic 7       topic 8       topic 9       \n",
            "--------      --------      --------      --------      --------      \n",
            "black         want          could         her           long          \n",
            "us            every         these         he            want          \n",
            "should        why           jesus         love          school        \n",
            "must          know          us            god           us            \n",
            "been          going         christ        some          into          \n",
            "itõs          tell          should        know          day           \n",
            "any           something     any           need          never         \n",
            "something     make          change        any           he            \n",
            "make          these         say           him           his           \n",
            "career        believe       new           day           anti          \n",
            "want          well          great         us            burger        \n",
            "which         white         thing         been          controls      \n",
            "take          think         most          into          list          \n",
            "man           some          white         yet           culture       \n",
            "work          learn         which         now           must          \n",
            "\n",
            "\n"
          ],
          "name": "stdout"
        }
      ]
    },
    {
      "cell_type": "code",
      "metadata": {
        "id": "vQjr3EBt9iw3",
        "colab_type": "code",
        "colab": {}
      },
      "source": [
        "# Sort by weight of topic\n",
        "topic = np.argsort(document_topics[:,10])[::-1]\n",
        "\n",
        "# Print the five documents where topic is most relevant\n",
        "for i in topic[:1]:\n",
        "  print(b\".\".joing(X_combo[i].split(b\".\")[:1]) +b'.\\n')"
      ],
      "execution_count": 0,
      "outputs": []
    },
    {
      "cell_type": "code",
      "metadata": {
        "id": "b72Jmoeo-ecn",
        "colab_type": "code",
        "colab": {}
      },
      "source": [
        "# Topic weights learned\n",
        "fig, ax = plt.subplots(1,2,figsize=10,10))\n",
        "topic_names = [\"{:>2}\".format(i)+ \" \".join(words) for i, words in enumerate(feature_names[sorting[:, :2]])]\n",
        "# 2 column bar chart:\n",
        "for col in [0,1]:\n",
        "  start = col * 50\n",
        "  end = (col+1) * 50\n",
        "  ax[col].barh(np.arrange(50), np.sum(document_topics, axis=0))[start:end])\n",
        "  ax[col].set_yticks(np.arrange(50))\n",
        "  ax[col].set_ytickslabels(topic_names[start:end], ha='left', va='top')\n",
        "  ax[col].invert_yaxis()\n",
        "  yax = ax[col].get_yaxis\n",
        "  yax.set_tick_params(pad=130)\n",
        "plt.tight_layout() "
      ],
      "execution_count": 0,
      "outputs": []
    },
    {
      "cell_type": "markdown",
      "metadata": {
        "id": "jDuVq0o2FfcE",
        "colab_type": "text"
      },
      "source": [
        "# **Manifesto Word Clouds**"
      ]
    },
    {
      "cell_type": "code",
      "metadata": {
        "id": "3LUjAc8OFW3z",
        "colab_type": "code",
        "outputId": "05ce9b4d-8291-47eb-b10c-312ffe882378",
        "colab": {
          "base_uri": "https://localhost:8080/",
          "height": 240
        }
      },
      "source": [
        "from wordcloud import WordCloud\n",
        "from collections import Counter\n",
        "\n",
        "def decontracted(phrase):\n",
        "    phrase = re.sub(r\"won\\'t\", \"will not\", phrase)\n",
        "    phrase = re.sub(r\"can\\'t\", \"can not\", phrase)\n",
        "    phrase = re.sub(r\"n\\'t\", \" not\", phrase)\n",
        "    phrase = re.sub(r\"\\'re\", \" are\", phrase)\n",
        "    phrase = re.sub(r\"\\'s\", \" is\", phrase)\n",
        "    phrase = re.sub(r\"\\'d\", \" would\", phrase)\n",
        "    phrase = re.sub(r\"\\'ll\", \" will\", phrase)\n",
        "    phrase = re.sub(r\"\\'t\", \" not\", phrase)\n",
        "    phrase = re.sub(r\"\\'ve\", \" have\", phrase)\n",
        "    phrase = re.sub(r\"\\'m\", \" am\", phrase)\n",
        "    phrase = re.sub(r\"it\\Õs\", \"it is\", phrase)\n",
        "    phrase = re.sub(r\"don\\Õt\", \"do not\", phrase)\n",
        "    phrase = re.sub(r\"isn\\Õt\", \"is not\", phrase)\n",
        "    phrase = re.sub(r\"I\\Õm\", \"I am\", phrase)\n",
        "    phrase = re.sub(r\"can\\Õt\", \"can not\", phrase)\n",
        "    phrase = re.sub(r\"\\Õve\", \"have\", phrase)\n",
        "    return phrase\n",
        "\n",
        "cols_oos = ['target','text']\n",
        "oos_df = pd.read_csv('/content/gdrive/My Drive/Colab Notebooks/Data/manifesto.csv', encoding='latin-1', header=None, \\\n",
        "                     names=cols_oos, usecols=[0,1])\n",
        "oos_df = oos_df[['target','text']]\n",
        "X_oos = oos_df['text'].fillna('').tolist()\n",
        "X_oos = [decontracted(str(i)) for i in X_oos]\n",
        "\n",
        "tokenizer = Tokenizer()\n",
        "tokenizer.fit_on_texts(X_oos)\n",
        "\n",
        "# Wordcloud\n",
        "wordcloud = WordCloud(width=800, height=500,random_state=21, max_font_size=110).generate(\" \".join([token for token in X_oos]))\n",
        "plt.figure()\n",
        "plt.imshow(wordcloud)\n",
        "plt.axis('off')\n",
        "plt.show()"
      ],
      "execution_count": 0,
      "outputs": [
        {
          "output_type": "display_data",
          "data": {
            "image/png": "[encoded data removed]",
            "text/plain": [
              "<Figure size 432x288 with 1 Axes>"
            ]
          },
          "metadata": {
            "tags": []
          }
        }
      ]
    }
  ]
}